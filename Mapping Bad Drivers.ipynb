{
 "cells": [
  {
   "cell_type": "markdown",
   "metadata": {},
   "source": [
    "# Mapping Bad Drivers"
   ]
  },
  {
   "cell_type": "markdown",
   "metadata": {},
   "source": [
    "## A little motivation\n",
    "\n",
    "So my wife and I often talk about the quality of driving in New Jersey. She's from Texas, and I grew up driving in New Jersey. Conveniently, fivethrityeight has [published an article](http://fivethirtyeight.com/datalab/which-state-has-the-worst-drivers/) and [collected data](https://github.com/fivethirtyeight/data/tree/master/bad-drivers) about bad driving.\n",
    "\n",
    "So let's see what the data have to say."
   ]
  },
  {
   "cell_type": "code",
   "execution_count": 1,
   "metadata": {
    "collapsed": false
   },
   "outputs": [
    {
     "data": {
      "text/html": [
       "<script>requirejs.config({paths: { 'plotly': ['https://cdn.plot.ly/plotly-latest.min']},});if(!window.Plotly) {{require(['plotly'],function(plotly) {window.Plotly=plotly;});}}</script>"
      ],
      "text/plain": [
       "<IPython.core.display.HTML object>"
      ]
     },
     "metadata": {},
     "output_type": "display_data"
    },
    {
     "data": {
      "text/html": [
       "<div>\n",
       "<table border=\"1\" class=\"dataframe\">\n",
       "  <thead>\n",
       "    <tr style=\"text-align: right;\">\n",
       "      <th></th>\n",
       "      <th>State</th>\n",
       "      <th>Number of drivers involved in fatal collisions per billion miles</th>\n",
       "      <th>Percentage Of Drivers Involved In Fatal Collisions Who Were Speeding</th>\n",
       "      <th>Percentage Of Drivers Involved In Fatal Collisions Who Were Alcohol-Impaired</th>\n",
       "      <th>Percentage Of Drivers Involved In Fatal Collisions Who Were Not Distracted</th>\n",
       "      <th>Percentage Of Drivers Involved In Fatal Collisions Who Had Not Been Involved In Any Previous Accidents</th>\n",
       "      <th>Car Insurance Premiums ($)</th>\n",
       "      <th>Losses incurred by insurance companies for collisions per insured driver ($)</th>\n",
       "    </tr>\n",
       "  </thead>\n",
       "  <tbody>\n",
       "    <tr>\n",
       "      <th>0</th>\n",
       "      <td>Alabama</td>\n",
       "      <td>18.8</td>\n",
       "      <td>39</td>\n",
       "      <td>30</td>\n",
       "      <td>96</td>\n",
       "      <td>80</td>\n",
       "      <td>784.55</td>\n",
       "      <td>145.08</td>\n",
       "    </tr>\n",
       "    <tr>\n",
       "      <th>1</th>\n",
       "      <td>Alaska</td>\n",
       "      <td>18.1</td>\n",
       "      <td>41</td>\n",
       "      <td>25</td>\n",
       "      <td>90</td>\n",
       "      <td>94</td>\n",
       "      <td>1053.48</td>\n",
       "      <td>133.93</td>\n",
       "    </tr>\n",
       "    <tr>\n",
       "      <th>2</th>\n",
       "      <td>Arizona</td>\n",
       "      <td>18.6</td>\n",
       "      <td>35</td>\n",
       "      <td>28</td>\n",
       "      <td>84</td>\n",
       "      <td>96</td>\n",
       "      <td>899.47</td>\n",
       "      <td>110.35</td>\n",
       "    </tr>\n",
       "    <tr>\n",
       "      <th>3</th>\n",
       "      <td>Arkansas</td>\n",
       "      <td>22.4</td>\n",
       "      <td>18</td>\n",
       "      <td>26</td>\n",
       "      <td>94</td>\n",
       "      <td>95</td>\n",
       "      <td>827.34</td>\n",
       "      <td>142.39</td>\n",
       "    </tr>\n",
       "    <tr>\n",
       "      <th>4</th>\n",
       "      <td>California</td>\n",
       "      <td>12.0</td>\n",
       "      <td>35</td>\n",
       "      <td>28</td>\n",
       "      <td>91</td>\n",
       "      <td>89</td>\n",
       "      <td>878.41</td>\n",
       "      <td>165.63</td>\n",
       "    </tr>\n",
       "  </tbody>\n",
       "</table>\n",
       "</div>"
      ],
      "text/plain": [
       "        State  \\\n",
       "0     Alabama   \n",
       "1      Alaska   \n",
       "2     Arizona   \n",
       "3    Arkansas   \n",
       "4  California   \n",
       "\n",
       "   Number of drivers involved in fatal collisions per billion miles  \\\n",
       "0                                               18.8                  \n",
       "1                                               18.1                  \n",
       "2                                               18.6                  \n",
       "3                                               22.4                  \n",
       "4                                               12.0                  \n",
       "\n",
       "   Percentage Of Drivers Involved In Fatal Collisions Who Were Speeding  \\\n",
       "0                                                 39                      \n",
       "1                                                 41                      \n",
       "2                                                 35                      \n",
       "3                                                 18                      \n",
       "4                                                 35                      \n",
       "\n",
       "   Percentage Of Drivers Involved In Fatal Collisions Who Were Alcohol-Impaired  \\\n",
       "0                                                 30                              \n",
       "1                                                 25                              \n",
       "2                                                 28                              \n",
       "3                                                 26                              \n",
       "4                                                 28                              \n",
       "\n",
       "   Percentage Of Drivers Involved In Fatal Collisions Who Were Not Distracted  \\\n",
       "0                                                 96                            \n",
       "1                                                 90                            \n",
       "2                                                 84                            \n",
       "3                                                 94                            \n",
       "4                                                 91                            \n",
       "\n",
       "   Percentage Of Drivers Involved In Fatal Collisions Who Had Not Been Involved In Any Previous Accidents  \\\n",
       "0                                                 80                                                        \n",
       "1                                                 94                                                        \n",
       "2                                                 96                                                        \n",
       "3                                                 95                                                        \n",
       "4                                                 89                                                        \n",
       "\n",
       "   Car Insurance Premiums ($)  \\\n",
       "0                      784.55   \n",
       "1                     1053.48   \n",
       "2                      899.47   \n",
       "3                      827.34   \n",
       "4                      878.41   \n",
       "\n",
       "   Losses incurred by insurance companies for collisions per insured driver ($)  \n",
       "0                                             145.08                             \n",
       "1                                             133.93                             \n",
       "2                                             110.35                             \n",
       "3                                             142.39                             \n",
       "4                                             165.63                             "
      ]
     },
     "execution_count": 1,
     "metadata": {},
     "output_type": "execute_result"
    }
   ],
   "source": [
    "import pandas as pd\n",
    "from plotly.offline import init_notebook_mode, iplot\n",
    "\n",
    "# so I don't have to sign in to use plotly\n",
    "init_notebook_mode(connected=True)\n",
    "\n",
    "df = pd.read_csv('https://raw.githubusercontent.com/fivethirtyeight/data/master/bad-drivers/bad-drivers.csv')\n",
    "df.head()"
   ]
  },
  {
   "cell_type": "markdown",
   "metadata": {},
   "source": [
    "It looks like all data are normalized by mileage rather than by per capita or by number of people with driver's licenses. Also, the states are named rather than encoded, so we'll need to add another column of the state codes."
   ]
  },
  {
   "cell_type": "code",
   "execution_count": 2,
   "metadata": {
    "collapsed": false
   },
   "outputs": [],
   "source": [
    "state_codes = {\n",
    "    'Alabama': 'AL',\n",
    "    'Alaska': 'AK',\n",
    "    'Arizona': 'AZ',\n",
    "    'Arkansas': 'AR',\n",
    "    'California': 'CA',\n",
    "    'Colorado': 'CO',\n",
    "    'Connecticut': 'CT',\n",
    "    'Delaware': 'DE',\n",
    "    'District of Columbia': 'DC',\n",
    "    'Florida': 'FL',\n",
    "    'Georgia': 'GA',\n",
    "    'Hawaii': 'HI',\n",
    "    'Idaho': 'ID',\n",
    "    'Illinois': 'IL',\n",
    "    'Indiana': 'IN',\n",
    "    'Iowa': 'IA',\n",
    "    'Kansas': 'KS',\n",
    "    'Kentucky': 'KY',\n",
    "    'Louisiana': 'LA',\n",
    "    'Maine': 'ME',\n",
    "    'Maryland': 'MD',\n",
    "    'Massachusetts': 'MA',\n",
    "    'Michigan': 'MI',\n",
    "    'Minnesota': 'MN',\n",
    "    'Mississippi': 'MS',\n",
    "    'Missouri': 'MO',\n",
    "    'Montana': 'MT',\n",
    "    'Nebraska': 'NE',\n",
    "    'Nevada': 'NV',\n",
    "    'New Hampshire': 'NH',\n",
    "    'New Jersey': 'NJ',\n",
    "    'New Mexico': 'NM',\n",
    "    'New York': 'NY',\n",
    "    'North Carolina': 'NC',\n",
    "    'North Dakota': 'ND',\n",
    "    'Ohio': 'OH',\n",
    "    'Oklahoma': 'OK',\n",
    "    'Oregon': 'OR',\n",
    "    'Pennsylvania': 'PA',\n",
    "    'Rhode Island': 'RI',\n",
    "    'South Carolina': 'SC',\n",
    "    'South Dakota': 'SD',\n",
    "    'Tennessee': 'TN',\n",
    "    'Texas': 'TX',\n",
    "    'Utah': 'UT',\n",
    "    'Vermont': 'VT',\n",
    "    'Virginia': 'VA',\n",
    "    'Washington': 'WA',\n",
    "    'West Virginia': 'WV',\n",
    "    'Wisconsin': 'WI',\n",
    "    'Wyoming': 'WY',\n",
    "}\n",
    "\n",
    "# reassign the index with codes, remove the full state name\n",
    "df.index = df['State'].replace(state_codes)\n",
    "state_names = df.pop('State')\n",
    "\n",
    "# shorten the column names\n",
    "df.columns = ['drivers', 'speeding', 'drinking', 'not_distracted', 'first_time', 'premiums', 'losses']"
   ]
  },
  {
   "cell_type": "code",
   "execution_count": 3,
   "metadata": {
    "collapsed": false
   },
   "outputs": [
    {
     "data": {
      "text/html": [
       "<div>\n",
       "<table border=\"1\" class=\"dataframe\">\n",
       "  <thead>\n",
       "    <tr style=\"text-align: right;\">\n",
       "      <th></th>\n",
       "      <th>drivers</th>\n",
       "      <th>speeding</th>\n",
       "      <th>drinking</th>\n",
       "      <th>not_distracted</th>\n",
       "      <th>first_time</th>\n",
       "      <th>premiums</th>\n",
       "      <th>losses</th>\n",
       "    </tr>\n",
       "  </thead>\n",
       "  <tbody>\n",
       "    <tr>\n",
       "      <th>count</th>\n",
       "      <td>51.000000</td>\n",
       "      <td>51.000000</td>\n",
       "      <td>51.000000</td>\n",
       "      <td>51.000000</td>\n",
       "      <td>51.00000</td>\n",
       "      <td>51.000000</td>\n",
       "      <td>51.000000</td>\n",
       "    </tr>\n",
       "    <tr>\n",
       "      <th>mean</th>\n",
       "      <td>15.790196</td>\n",
       "      <td>31.725490</td>\n",
       "      <td>30.686275</td>\n",
       "      <td>85.921569</td>\n",
       "      <td>88.72549</td>\n",
       "      <td>886.957647</td>\n",
       "      <td>134.493137</td>\n",
       "    </tr>\n",
       "    <tr>\n",
       "      <th>std</th>\n",
       "      <td>4.122002</td>\n",
       "      <td>9.633438</td>\n",
       "      <td>5.132213</td>\n",
       "      <td>15.158949</td>\n",
       "      <td>6.96011</td>\n",
       "      <td>178.296285</td>\n",
       "      <td>24.835922</td>\n",
       "    </tr>\n",
       "    <tr>\n",
       "      <th>min</th>\n",
       "      <td>5.900000</td>\n",
       "      <td>13.000000</td>\n",
       "      <td>16.000000</td>\n",
       "      <td>10.000000</td>\n",
       "      <td>76.00000</td>\n",
       "      <td>641.960000</td>\n",
       "      <td>82.750000</td>\n",
       "    </tr>\n",
       "    <tr>\n",
       "      <th>25%</th>\n",
       "      <td>12.750000</td>\n",
       "      <td>23.000000</td>\n",
       "      <td>28.000000</td>\n",
       "      <td>83.000000</td>\n",
       "      <td>83.50000</td>\n",
       "      <td>768.430000</td>\n",
       "      <td>114.645000</td>\n",
       "    </tr>\n",
       "    <tr>\n",
       "      <th>50%</th>\n",
       "      <td>15.600000</td>\n",
       "      <td>34.000000</td>\n",
       "      <td>30.000000</td>\n",
       "      <td>88.000000</td>\n",
       "      <td>88.00000</td>\n",
       "      <td>858.970000</td>\n",
       "      <td>136.050000</td>\n",
       "    </tr>\n",
       "    <tr>\n",
       "      <th>75%</th>\n",
       "      <td>18.500000</td>\n",
       "      <td>38.000000</td>\n",
       "      <td>33.000000</td>\n",
       "      <td>95.000000</td>\n",
       "      <td>95.00000</td>\n",
       "      <td>1007.945000</td>\n",
       "      <td>151.870000</td>\n",
       "    </tr>\n",
       "    <tr>\n",
       "      <th>max</th>\n",
       "      <td>23.900000</td>\n",
       "      <td>54.000000</td>\n",
       "      <td>44.000000</td>\n",
       "      <td>100.000000</td>\n",
       "      <td>100.00000</td>\n",
       "      <td>1301.520000</td>\n",
       "      <td>194.780000</td>\n",
       "    </tr>\n",
       "  </tbody>\n",
       "</table>\n",
       "</div>"
      ],
      "text/plain": [
       "         drivers   speeding   drinking  not_distracted  first_time  \\\n",
       "count  51.000000  51.000000  51.000000       51.000000    51.00000   \n",
       "mean   15.790196  31.725490  30.686275       85.921569    88.72549   \n",
       "std     4.122002   9.633438   5.132213       15.158949     6.96011   \n",
       "min     5.900000  13.000000  16.000000       10.000000    76.00000   \n",
       "25%    12.750000  23.000000  28.000000       83.000000    83.50000   \n",
       "50%    15.600000  34.000000  30.000000       88.000000    88.00000   \n",
       "75%    18.500000  38.000000  33.000000       95.000000    95.00000   \n",
       "max    23.900000  54.000000  44.000000      100.000000   100.00000   \n",
       "\n",
       "          premiums      losses  \n",
       "count    51.000000   51.000000  \n",
       "mean    886.957647  134.493137  \n",
       "std     178.296285   24.835922  \n",
       "min     641.960000   82.750000  \n",
       "25%     768.430000  114.645000  \n",
       "50%     858.970000  136.050000  \n",
       "75%    1007.945000  151.870000  \n",
       "max    1301.520000  194.780000  "
      ]
     },
     "execution_count": 3,
     "metadata": {},
     "output_type": "execute_result"
    }
   ],
   "source": [
    "df.describe()"
   ]
  },
  {
   "cell_type": "markdown",
   "metadata": {},
   "source": [
    "## Speeding deaths: how many per billion miles driven, per state?"
   ]
  },
  {
   "cell_type": "code",
   "execution_count": 4,
   "metadata": {
    "collapsed": false
   },
   "outputs": [
    {
     "data": {
      "text/html": [
       "<div id=\"afdb6062-4593-42b8-a894-26948f5e47f9\" style=\"height: 525px; width: 100%;\" class=\"plotly-graph-div\"></div><script type=\"text/javascript\">require([\"plotly\"], function(Plotly) { window.PLOTLYENV=window.PLOTLYENV || {};window.PLOTLYENV.BASE_URL=\"https://plot.ly\";Plotly.newPlot(\"afdb6062-4593-42b8-a894-26948f5e47f9\", [{\"reversescale\": true, \"zmax\": 10.0, \"colorscale\": \"YlOrRd\", \"type\": \"choropleth\", \"zmin\": 0.0, \"locations\": [\"AL\", \"AK\", \"AZ\", \"AR\", \"CA\", \"CO\", \"CT\", \"DE\", \"DC\", \"FL\", \"GA\", \"HI\", \"ID\", \"IL\", \"IN\", \"IA\", \"KS\", \"KY\", \"LA\", \"ME\", \"MD\", \"MA\", \"MI\", \"MN\", \"MS\", \"MO\", \"MT\", \"NE\", \"NV\", \"NH\", \"NJ\", \"NM\", \"NY\", \"NC\", \"ND\", \"OH\", \"OK\", \"OR\", \"PA\", \"RI\", \"SC\", \"SD\", \"TN\", \"TX\", \"UT\", \"VT\", \"VA\", \"WA\", \"WV\", \"WI\", \"WY\"], \"colorbar\": {\"title\": \"Per billion miles\"}, \"marker\": {\"line\": {\"color\": \"rgb(255, 255, 255)\", \"width\": 2}}, \"z\": [7.332000000000001, 7.421, 6.51, 4.032, 4.2, 5.032, 4.968, 6.156000000000001, 2.0060000000000002, 3.759, 2.964, 9.45, 5.508000000000001, 4.6080000000000005, 3.625, 2.6689999999999996, 4.806, 4.066, 7.175, 5.7379999999999995, 4.25, 1.886, 3.384, 2.2079999999999997, 2.64, 6.923000000000001, 8.345999999999998, 1.9370000000000003, 5.439, 4.06, 1.7919999999999998, 3.4959999999999996, 3.9360000000000004, 6.5520000000000005, 5.496999999999999, 3.948, 6.367999999999999, 4.224, 9.1, 3.7739999999999996, 9.081999999999999, 6.013999999999999, 4.095, 7.76, 4.859, 4.08, 2.413, 4.452, 8.092, 4.968, 7.308], \"locationmode\": \"USA-states\"}], {\"geo\": {\"showlakes\": false, \"scope\": \"usa\", \"projection\": {\"type\": \"albers usa\"}, \"lakecolor\": \"rgb(255, 255, 255)\"}, \"title\": \"Driver fatalities due to speeding\"}, {\"linkText\": \"Export to plot.ly\", \"showLink\": true})});</script>"
      ],
      "text/plain": [
       "<IPython.core.display.HTML object>"
      ]
     },
     "metadata": {},
     "output_type": "display_data"
    }
   ],
   "source": [
    "df['speeding_fatalities'] = df.speeding * df.drivers / 100\n",
    "\n",
    "data = [dict(type='choropleth', \n",
    "             locations=df.index, \n",
    "             locationmode='USA-states',\n",
    "             colorscale='YlOrRd', \n",
    "             zmin=0.0,\n",
    "             zmax=10.0,\n",
    "             reversescale=True,\n",
    "             z=df.speeding_fatalities,\n",
    "             marker={'line': {'color': 'rgb(255, 255, 255)', 'width': 2}}, \n",
    "             colorbar={'title': 'Per billion miles'})]\n",
    "\n",
    "layout = dict(title='Driver fatalities due to speeding',\n",
    "              geo={'scope': 'usa', \n",
    "                   'projection': {'type': 'albers usa'}, \n",
    "                   'showlakes': False,\n",
    "                   'lakecolor': 'rgb(255, 255, 255)'})\n",
    "\n",
    "fig = dict(data=data, layout=layout)\n",
    "\n",
    "iplot(fig)"
   ]
  },
  {
   "cell_type": "markdown",
   "metadata": {},
   "source": [
    "We can sort them in increasing order by the above metric:"
   ]
  },
  {
   "cell_type": "code",
   "execution_count": 5,
   "metadata": {
    "collapsed": false
   },
   "outputs": [
    {
     "name": "stdout",
     "output_type": "stream",
     "text": [
      "                    Driver fatalities due to speeding\n",
      "                         State   Deaths   Rank\n",
      "  NJ     1.79     1   |    MA     1.89     2   |    NE     1.94     3 \n",
      "  DC     2.01     4   |    MN     2.21     5   |    VA     2.41     6 \n",
      "  MS     2.64     7   |    IA     2.67     8   |    GA     2.96     9 \n",
      "  MI     3.38    10   |    NM     3.50    11   |    IN     3.62    12 \n",
      "  FL     3.76    13   |    RI     3.77    14   |    NY     3.94    15 \n",
      "  OH     3.95    16   |    AR     4.03    17   |    NH     4.06    18 \n",
      "  KY     4.07    19   |    VT     4.08    20   |    TN     4.09    21 \n",
      "  CA     4.20    22   |    OR     4.22    23   |    MD     4.25    24 \n",
      "  WA     4.45    25   |    IL     4.61    26   |    KS     4.81    27 \n",
      "  UT     4.86    28   |    WI     4.97    29   |    CT     4.97    30 \n",
      "  CO     5.03    31   |    NV     5.44    32   |    ND     5.50    33 \n",
      "  ID     5.51    34   |    ME     5.74    35   |    SD     6.01    36 \n",
      "  DE     6.16    37   |    OK     6.37    38   |    AZ     6.51    39 \n",
      "  NC     6.55    40   |    MO     6.92    41   |    LA     7.17    42 \n",
      "  WY     7.31    43   |    AL     7.33    44   |    AK     7.42    45 \n",
      "  TX     7.76    46   |    WV     8.09    47   |    MT     8.35    48 \n",
      "  SC     9.08    49   |    PA     9.10    50   |    HI     9.45    51 \n"
     ]
    }
   ],
   "source": [
    "df.sort_values(by='speeding_fatalities', inplace=True)\n",
    "\n",
    "print('                    Driver fatalities due to speeding')\n",
    "print('                         State   Deaths   Rank')\n",
    "for i, [code, fatalities] in enumerate(zip(df.index, df.speeding_fatalities)):\n",
    "    if i % 3 == 0:\n",
    "        string_row = ''\n",
    "    else:\n",
    "        string_row += '  |  '\n",
    "    string_row += '  {:s}    {:5.2f}    {:2d} '.format(code, fatalities, i + 1)\n",
    "    \n",
    "    if i % 3 == 2:\n",
    "        print(string_row)"
   ]
  },
  {
   "cell_type": "markdown",
   "metadata": {},
   "source": [
    "Looks like New Jersey is beating Texas, \\#1 versus \\#46. That seems amazing given how often NJ drivers speed, and especially in contrast to PA drivers (\\#50), whose driving we consider unbearably slow. Also, Massachusetts sitting at \\#2 boggles my mind."
   ]
  },
  {
   "cell_type": "markdown",
   "metadata": {},
   "source": [
    "## Non-distracted driver fatalities\n",
    "\n",
    "I don't know whether to interpret these as simply bad drivers or as victims of other bad drivers. I'll just assume that, if they did not have any distractions, they had no excuse (i.e., were at fault).\n",
    "\n",
    "Let's take a look at the distribution of (percentages of) fatal accidents that were not caused by distracted driving."
   ]
  },
  {
   "cell_type": "code",
   "execution_count": 6,
   "metadata": {
    "collapsed": false
   },
   "outputs": [
    {
     "data": {
      "text/plain": [
       "<matplotlib.axes._subplots.AxesSubplot at 0x7f13d0666e90>"
      ]
     },
     "execution_count": 6,
     "metadata": {},
     "output_type": "execute_result"
    },
    {
     "data": {
      "image/png": "[encoded data removed]",
      "text/plain": [
       "<matplotlib.figure.Figure at 0x7f13d0666e10>"
      ]
     },
     "metadata": {},
     "output_type": "display_data"
    }
   ],
   "source": [
    "import seaborn as sns\n",
    "import matplotlib.pyplot as plt\n",
    "%matplotlib inline\n",
    "\n",
    "sns.set(style='whitegrid')\n",
    "\n",
    "fig = plt.figure(figsize=(15, 2))\n",
    "ax = fig.add_subplot(111)\n",
    "ax.set_xlim(-2,102)\n",
    "\n",
    "sns.boxplot(x='not_distracted', data=df, ax=ax)\n"
   ]
  },
  {
   "cell_type": "markdown",
   "metadata": {},
   "source": [
    "Mississippi's number looks like it might be off (10% of accidents *not* due to distractions... it should probably be 90%). Wisconsin's is also extremely low (39%). Both of these are evident as outliers in the data, so let's just blank them.\n",
    "\n"
   ]
  },
  {
   "cell_type": "code",
   "execution_count": 7,
   "metadata": {
    "collapsed": false
   },
   "outputs": [
    {
     "name": "stderr",
     "output_type": "stream",
     "text": [
      "/home/john/anaconda2/lib/python2.7/site-packages/pandas/core/indexing.py:132: SettingWithCopyWarning:\n",
      "\n",
      "\n",
      "A value is trying to be set on a copy of a slice from a DataFrame\n",
      "\n",
      "See the caveats in the documentation: http://pandas.pydata.org/pandas-docs/stable/indexing.html#indexing-view-versus-copy\n",
      "\n"
     ]
    }
   ],
   "source": [
    "import numpy as np\n",
    "\n",
    "df.not_distracted.ix['MS'] = np.nan\n",
    "df.not_distracted.ix['WI'] = np.nan"
   ]
  },
  {
   "cell_type": "code",
   "execution_count": 8,
   "metadata": {
    "collapsed": false,
    "scrolled": false
   },
   "outputs": [
    {
     "data": {
      "text/html": [
       "<div id=\"b70732cd-e5ce-435a-8340-7a9b1086211c\" style=\"height: 525px; width: 100%;\" class=\"plotly-graph-div\"></div><script type=\"text/javascript\">require([\"plotly\"], function(Plotly) { window.PLOTLYENV=window.PLOTLYENV || {};window.PLOTLYENV.BASE_URL=\"https://plot.ly\";Plotly.newPlot(\"b70732cd-e5ce-435a-8340-7a9b1086211c\", [{\"reversescale\": true, \"zmax\": 25.0, \"colorscale\": \"YlOrRd\", \"type\": \"choropleth\", \"zmin\": 5.0, \"locations\": [\"NJ\", \"MA\", \"NE\", \"DC\", \"MN\", \"VA\", \"MS\", \"IA\", \"GA\", \"MI\", \"NM\", \"IN\", \"FL\", \"RI\", \"NY\", \"OH\", \"AR\", \"NH\", \"KY\", \"VT\", \"TN\", \"CA\", \"OR\", \"MD\", \"WA\", \"IL\", \"KS\", \"UT\", \"WI\", \"CT\", \"CO\", \"NV\", \"ND\", \"ID\", \"ME\", \"SD\", \"DE\", \"OK\", \"AZ\", \"NC\", \"MO\", \"LA\", \"WY\", \"AL\", \"AK\", \"TX\", \"WV\", \"MT\", \"SC\", \"PA\", \"HI\"], \"colorbar\": {\"title\": \"Per billion miles\"}, \"marker\": {\"line\": {\"color\": \"rgb(255, 255, 255)\", \"width\": 2}}, \"z\": [9.632, 7.1339999999999995, 13.857000000000001, 5.9, 8.448, 11.049, null, 15.229, 14.82, 13.395, 12.328, 13.775, 16.468, 10.212, 10.824000000000002, 13.958999999999998, 21.055999999999997, 10.091999999999999, 16.691999999999997, 13.056, 15.99, 10.92, 8.576, 8.875, 8.692, 12.032, 13.706000000000001, 9.944, null, 9.396, 10.743999999999998, 13.965, 23.660999999999998, 13.005, 13.137, 19.011999999999997, 14.094, 18.308, 15.624, 15.792, 14.812000000000001, 14.965, 14.094, 18.048000000000002, 16.290000000000003, 17.654, 23.086, 17.976, 22.943999999999996, 17.471999999999998, 14.35], \"locationmode\": \"USA-states\"}], {\"geo\": {\"showlakes\": false, \"scope\": \"usa\", \"projection\": {\"type\": \"albers usa\"}, \"lakecolor\": \"rgb(255, 255, 255)\"}, \"title\": \"Driver fatalities not due to distractions\"}, {\"linkText\": \"Export to plot.ly\", \"showLink\": true})});</script>"
      ],
      "text/plain": [
       "<IPython.core.display.HTML object>"
      ]
     },
     "metadata": {},
     "output_type": "display_data"
    }
   ],
   "source": [
    "df['not_distracted_fatalities'] = df.not_distracted * df.drivers / 100\n",
    "\n",
    "data = [dict(type='choropleth', \n",
    "             locations=df.index, \n",
    "             locationmode='USA-states',\n",
    "             colorscale='YlOrRd', \n",
    "             zmin=5.0,\n",
    "             zmax=25.0,\n",
    "             reversescale=True,\n",
    "             z=df.not_distracted_fatalities,\n",
    "             marker={'line': {'color': 'rgb(255, 255, 255)', 'width': 2}}, \n",
    "             colorbar={'title': 'Per billion miles'})]\n",
    "\n",
    "layout = dict(title='Driver fatalities not due to distractions',\n",
    "              geo={'scope': 'usa', \n",
    "                   'projection': {'type': 'albers usa'}, \n",
    "                   'showlakes': False,\n",
    "                   'lakecolor': 'rgb(255, 255, 255)'})\n",
    "\n",
    "fig = dict(data=data, layout=layout)\n",
    "\n",
    "iplot(fig)"
   ]
  },
  {
   "cell_type": "markdown",
   "metadata": {},
   "source": [
    "It's interesting that the Northeast and West coast have good driving (if, indeed, I am correctly equating low numbers of non-distracted driving with good driving). And then Minnesota, despite bordering North Dakota (which has the highest per-mileage rate), is home of the third lowest rate. Washington D.C. has the lowest, and Massachusetts the second-lowest."
   ]
  },
  {
   "cell_type": "code",
   "execution_count": 9,
   "metadata": {
    "collapsed": false
   },
   "outputs": [
    {
     "name": "stdout",
     "output_type": "stream",
     "text": [
      "                 Driver fatalities not due to distractions\n",
      "                         State   Deaths   Rank\n",
      "  DC     5.90     1   |    MA     7.13     2   |    MN     8.45     3 \n",
      "  OR     8.58     4   |    WA     8.69     5   |    MD     8.88     6 \n",
      "  CT     9.40     7   |    NJ     9.63     8   |    UT     9.94     9 \n",
      "  NH    10.09    10   |    RI    10.21    11   |    CO    10.74    12 \n",
      "  NY    10.82    13   |    CA    10.92    14   |    VA    11.05    15 \n",
      "  IL    12.03    16   |    NM    12.33    17   |    ID    13.01    18 \n",
      "  VT    13.06    19   |    ME    13.14    20   |    MI    13.39    21 \n",
      "  KS    13.71    22   |    IN    13.78    23   |    NE    13.86    24 \n",
      "  OH    13.96    25   |    NV    13.96    26   |    WY    14.09    27 \n",
      "  DE    14.09    28   |    HI    14.35    29   |    MO    14.81    30 \n",
      "  GA    14.82    31   |    LA    14.96    32   |    IA    15.23    33 \n",
      "  AZ    15.62    34   |    NC    15.79    35   |    TN    15.99    36 \n",
      "  AK    16.29    37   |    FL    16.47    38   |    KY    16.69    39 \n",
      "  PA    17.47    40   |    TX    17.65    41   |    MT    17.98    42 \n",
      "  AL    18.05    43   |    OK    18.31    44   |    SD    19.01    45 \n",
      "  AR    21.06    46   |    SC    22.94    47   |    WV    23.09    48 \n",
      "  ND    23.66    49   |    MS      nan    50   |    WI      nan    51 \n"
     ]
    }
   ],
   "source": [
    "df.sort_values(by='not_distracted_fatalities', inplace=True)\n",
    "\n",
    "print('                 Driver fatalities not due to distractions')\n",
    "print('                         State   Deaths   Rank')\n",
    "for i, [code, fatalities] in enumerate(zip(df.index, df.not_distracted_fatalities)):\n",
    "    \n",
    "    if i % 3 == 0:\n",
    "        string_row = ''\n",
    "    else:\n",
    "        string_row += '  |  '\n",
    "    string_row += '  {:s}    {:5.2f}    {:2d} '.format(code, fatalities, i + 1)\n",
    "    \n",
    "    if i % 3 == 2:\n",
    "        print(string_row)\n",
    "    "
   ]
  },
  {
   "cell_type": "markdown",
   "metadata": {},
   "source": [
    "### Drinking and driving"
   ]
  },
  {
   "cell_type": "code",
   "execution_count": 10,
   "metadata": {
    "collapsed": false
   },
   "outputs": [
    {
     "data": {
      "text/plain": [
       "<matplotlib.axes._subplots.AxesSubplot at 0x7f1404557f10>"
      ]
     },
     "execution_count": 10,
     "metadata": {},
     "output_type": "execute_result"
    },
    {
     "data": {
      "image/png": "[encoded data removed]",
      "text/plain": [
       "<matplotlib.figure.Figure at 0x7f13d6c83a50>"
      ]
     },
     "metadata": {},
     "output_type": "display_data"
    }
   ],
   "source": [
    "fig = plt.figure(figsize=(15, 2))\n",
    "ax = fig.add_subplot(111)\n",
    "ax.set_xlim(10,50)\n",
    "\n",
    "sns.boxplot(x='drinking', data=df, ax=ax)"
   ]
  },
  {
   "cell_type": "code",
   "execution_count": 11,
   "metadata": {
    "collapsed": false
   },
   "outputs": [
    {
     "data": {
      "text/html": [
       "<div id=\"fd0a2ceb-41cd-4b6d-93e4-9d734128373b\" style=\"height: 525px; width: 100%;\" class=\"plotly-graph-div\"></div><script type=\"text/javascript\">require([\"plotly\"], function(Plotly) { window.PLOTLYENV=window.PLOTLYENV || {};window.PLOTLYENV.BASE_URL=\"https://plot.ly\";Plotly.newPlot(\"fd0a2ceb-41cd-4b6d-93e4-9d734128373b\", [{\"reversescale\": true, \"zmax\": 10.0, \"colorscale\": \"YlOrRd\", \"type\": \"choropleth\", \"zmin\": 1.0, \"locations\": [\"DC\", \"MA\", \"MN\", \"OR\", \"WA\", \"MD\", \"CT\", \"NJ\", \"UT\", \"NH\", \"RI\", \"CO\", \"NY\", \"CA\", \"VA\", \"IL\", \"NM\", \"ID\", \"VT\", \"ME\", \"MI\", \"KS\", \"IN\", \"NE\", \"OH\", \"NV\", \"WY\", \"DE\", \"HI\", \"MO\", \"GA\", \"LA\", \"IA\", \"AZ\", \"NC\", \"TN\", \"AK\", \"FL\", \"KY\", \"PA\", \"TX\", \"MT\", \"AL\", \"OK\", \"SD\", \"AR\", \"SC\", \"WV\", \"ND\", \"MS\", \"WI\"], \"colorbar\": {\"title\": \"Per billion miles\"}, \"marker\": {\"line\": {\"color\": \"rgb(255, 255, 255)\", \"width\": 2}}, \"z\": [1.5930000000000002, 2.87, 2.784, 3.3280000000000003, 3.498, 4.0, 3.888, 3.1359999999999997, 1.808, 3.48, 4.218, 3.8080000000000003, 3.5670000000000006, 3.36, 3.429, 4.352, 4.968, 4.437, 4.08, 4.53, 3.948, 4.272, 4.205, 5.215, 4.794, 4.704, 5.568, 4.86, 7.175, 5.474000000000001, 3.9, 6.765, 3.925, 5.208000000000001, 5.208000000000001, 5.655, 4.525, 5.190999999999999, 4.922, 5.6419999999999995, 7.371999999999999, 9.415999999999999, 5.64, 5.770999999999999, 6.401999999999999, 5.824, 9.799, 6.664, 10.038, 5.456, 4.554], \"locationmode\": \"USA-states\"}], {\"geo\": {\"showlakes\": false, \"scope\": \"usa\", \"projection\": {\"type\": \"albers usa\"}, \"lakecolor\": \"rgb(255, 255, 255)\"}, \"title\": \"Drinking and driving fatalities\"}, {\"linkText\": \"Export to plot.ly\", \"showLink\": true})});</script>"
      ],
      "text/plain": [
       "<IPython.core.display.HTML object>"
      ]
     },
     "metadata": {},
     "output_type": "display_data"
    }
   ],
   "source": [
    "df['alcohol_fatalities'] = df.drinking * df.drivers / 100\n",
    "\n",
    "\n",
    "data = [dict(type='choropleth', \n",
    "             locations=df.index, \n",
    "             locationmode='USA-states',\n",
    "             colorscale='YlOrRd', \n",
    "             zmin=1.0,\n",
    "             zmax=10.0,\n",
    "             reversescale=True,\n",
    "             z=df.alcohol_fatalities,\n",
    "             marker={'line': {'color': 'rgb(255, 255, 255)', 'width': 2}}, \n",
    "             colorbar={'title': 'Per billion miles'})]\n",
    "\n",
    "layout = dict(title='Drinking and driving fatalities',\n",
    "              geo={'scope': 'usa', \n",
    "                   'projection': {'type': 'albers usa'}, \n",
    "                   'showlakes': False,\n",
    "                   'lakecolor': 'rgb(255, 255, 255)'})\n",
    "\n",
    "fig = dict(data=data, layout=layout)\n",
    "\n",
    "iplot(fig)"
   ]
  },
  {
   "cell_type": "markdown",
   "metadata": {},
   "source": [
    "Looks like Utah is the safe haven here... it makes sense, as the Church of Latter-day Saints forbids their members from alcohol consumption."
   ]
  },
  {
   "cell_type": "markdown",
   "metadata": {},
   "source": [
    "## Ratio of insurance premiums to losses\n",
    "\n",
    "Finally, let's take a look at the premiums and losses charged and paid by insurance companies. Obviously, it can be impacted by a lot of different things, such as the cost of living in a state, the non-fatal accident rate, etc."
   ]
  },
  {
   "cell_type": "code",
   "execution_count": 12,
   "metadata": {
    "collapsed": false
   },
   "outputs": [
    {
     "data": {
      "text/html": [
       "<div id=\"c6623e78-e607-4206-9a72-096e86aa57f7\" style=\"height: 525px; width: 100%;\" class=\"plotly-graph-div\"></div><script type=\"text/javascript\">require([\"plotly\"], function(Plotly) { window.PLOTLYENV=window.PLOTLYENV || {};window.PLOTLYENV.BASE_URL=\"https://plot.ly\";Plotly.newPlot(\"c6623e78-e607-4206-9a72-096e86aa57f7\", [{\"reversescale\": true, \"zmax\": 10.0, \"colorscale\": \"YlOrRd\", \"type\": \"choropleth\", \"zmin\": 5.0, \"locations\": [\"DC\", \"MA\", \"MN\", \"OR\", \"WA\", \"MD\", \"CT\", \"NJ\", \"UT\", \"NH\", \"RI\", \"CO\", \"NY\", \"CA\", \"VA\", \"IL\", \"NM\", \"ID\", \"VT\", \"ME\", \"MI\", \"KS\", \"IN\", \"NE\", \"OH\", \"NV\", \"WY\", \"DE\", \"HI\", \"MO\", \"GA\", \"LA\", \"IA\", \"AZ\", \"NC\", \"TN\", \"AK\", \"FL\", \"KY\", \"PA\", \"TX\", \"MT\", \"AL\", \"OK\", \"SD\", \"AR\", \"SC\", \"WV\", \"ND\", \"MS\", \"WI\"], \"colorbar\": {\"title\": \"Ratio\"}, \"marker\": {\"line\": {\"color\": \"rgb(255, 255, 255)\", \"width\": 2}}, \"z\": [9.363395810363837, 7.455135294551353, 5.828121484814398, 7.6924768186597845, 7.973750223974197, 5.4425531914893615, 6.398814513231948, 8.142133249921802, 7.392948483741322, 6.2102986440395975, 7.733140395746399, 5.971696090343793, 8.22818478768082, 5.303447443096058, 5.002276867030965, 5.771541501976285, 7.203726708074535, 7.757824773413898, 6.534075358087766, 6.8538883711297505, 7.294167870747406, 5.832959641255605, 6.522769004774147, 6.377634558439296, 5.225659077291791, 7.424626919472279, 6.48262864634546, 7.511684710852918, 7.121898776050281, 5.471235721703012, 6.394607843137254, 6.579474278673374, 5.6701319122914295, 8.15106479383779, 5.54091691441089, 4.936105933020505, 7.865900097065631, 8.046400332917187, 6.362648581637862, 5.88840504354608, 6.406618631639354, 9.585554903112154, 5.407706093189963, 4.9284915576428485, 6.909363063900071, 5.810379942411687, 7.386447673918651, 6.5063581541688515, 6.277342325920525, 5.752519740643256, 6.286906771712624], \"locationmode\": \"USA-states\"}], {\"geo\": {\"showlakes\": false, \"scope\": \"usa\", \"projection\": {\"type\": \"albers usa\"}, \"lakecolor\": \"rgb(255, 255, 255)\"}, \"title\": \"Insurance premiums-to-losses ratio\"}, {\"linkText\": \"Export to plot.ly\", \"showLink\": true})});</script>"
      ],
      "text/plain": [
       "<IPython.core.display.HTML object>"
      ]
     },
     "metadata": {},
     "output_type": "display_data"
    }
   ],
   "source": [
    "data = [dict(type='choropleth', \n",
    "             locations=df.index, \n",
    "             locationmode='USA-states',\n",
    "             colorscale='YlOrRd', \n",
    "             zmin=5.0,\n",
    "             zmax=10.0,\n",
    "             reversescale=True,\n",
    "             z=df.premiums / df.losses,\n",
    "             marker={'line': {'color': 'rgb(255, 255, 255)', 'width': 2}}, \n",
    "             colorbar={'title': 'Ratio'})]\n",
    "\n",
    "layout = dict(title='Insurance premiums-to-losses ratio',\n",
    "              geo={'scope': 'usa', \n",
    "                   'projection': {'type': 'albers usa'}, \n",
    "                   'showlakes': False,\n",
    "                   'lakecolor': 'rgb(255, 255, 255)'})\n",
    "\n",
    "fig = dict(data=data, layout=layout)\n",
    "\n",
    "iplot(fig)"
   ]
  },
  {
   "cell_type": "markdown",
   "metadata": {},
   "source": [
    "## Conclusions\n",
    "\n",
    "Okay, so maybe I just wanted to learn how to use [Plotly](https://plot.ly/python/). But still, it's nice to be able to visualize data over the entire United States by using these *choropleth* maps. And I totally feel justified defending the aggressive driving of my fellow New Jerseyans."
   ]
  },
  {
   "cell_type": "code",
   "execution_count": null,
   "metadata": {
    "collapsed": true
   },
   "outputs": [],
   "source": []
  }
 ],
 "metadata": {
  "kernelspec": {
   "display_name": "Python [Root]",
   "language": "python",
   "name": "Python [Root]"
  },
  "language_info": {
   "codemirror_mode": {
    "name": "ipython",
    "version": 2
   },
   "file_extension": ".py",
   "mimetype": "text/x-python",
   "name": "python",
   "nbconvert_exporter": "python",
   "pygments_lexer": "ipython2",
   "version": "2.7.12"
  }
 },
 "nbformat": 4,
 "nbformat_minor": 0
}
